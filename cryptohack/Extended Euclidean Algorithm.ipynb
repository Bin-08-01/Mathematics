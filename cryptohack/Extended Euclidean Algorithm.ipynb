{
 "cells": [
  {
   "cell_type": "markdown",
   "metadata": {},
   "source": [
    "### Extended Euclidean Algorithm\n",
    "\n",
    "We have two integers p, q. And Greatest Common Divison of both is:\n",
    "\n",
    "    > gcd(p,q)\n",
    "\n",
    "Always have two intergers u, v so: \n",
    "\n",
    "    > gcd(p, q) = u * p + v * q\n",
    "\n",
    "This is an Extended Euclidean Algorithm.\n",
    "\n",
    "[Refer](https://web.archive.org/web/20230511143526/http://www-math.ucdenver.edu/~wcherowi/courses/m5410/exeucalg.html)"
   ]
  },
  {
   "cell_type": "code",
   "execution_count": 5,
   "metadata": {},
   "outputs": [
    {
     "name": "stdout",
     "output_type": "stream",
     "text": [
      "u= 10245, v= -8404\n"
     ]
    }
   ],
   "source": [
    "def extended_gcd(a, b):\n",
    "    old_p, p = 0, 1\n",
    "    while a != 0:\n",
    "        q, r = b // a, b % a\n",
    "        old_p, p = p, old_p - p * q\n",
    "        b, a = a, r\n",
    "    u = old_p\n",
    "    return u, b\n",
    "\n",
    "p = 26513\n",
    "q = 32321\n",
    "\n",
    "u, gcd = extended_gcd(p, q)\n",
    "v = int((gcd - u * p) / q)\n",
    "print(f\"u= {u}, v= {v}\")"
   ]
  }
 ],
 "metadata": {
  "kernelspec": {
   "display_name": "Python 3",
   "language": "python",
   "name": "python3"
  },
  "language_info": {
   "codemirror_mode": {
    "name": "ipython",
    "version": 3
   },
   "file_extension": ".py",
   "mimetype": "text/x-python",
   "name": "python",
   "nbconvert_exporter": "python",
   "pygments_lexer": "ipython3",
   "version": "3.12.0"
  }
 },
 "nbformat": 4,
 "nbformat_minor": 2
}
