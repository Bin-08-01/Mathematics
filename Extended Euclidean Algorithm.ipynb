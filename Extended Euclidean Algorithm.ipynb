{
 "cells": [
  {
   "cell_type": "markdown",
   "metadata": {},
   "source": [
    "### Extended Euclidean Algorithm\n",
    "We have two integers p, q. And Greatest Common Divison of both is:\n",
    "    > gcd(p,q)\n",
    "Always have two intergers u, v so: \n",
    "    > gcd(p, q) = u * p + v * q\n",
    "This is an Extended Euclidean Algorithm.\n",
    "[Refer](http://www-math.ucdenver.edu/~wcherowi/courses/m5410/exeucalg.html)"
   ]
  },
  {
   "cell_type": "code",
   "execution_count": 3,
   "metadata": {},
   "outputs": [
    {
     "name": "stdout",
     "output_type": "stream",
     "text": [
      "(0, 10245, -8404)\n"
     ]
    }
   ],
   "source": [
    "def e_gcd(number_1, number_2):\n",
    "    number_1cp, number_2cp = number_1, number_2\n",
    "    old_p, p = 0, 1\n",
    "    while number_1cp != 0:\n",
    "        quotient, remain = number_2cp // number_1cp, number_2cp % number_1cp\n",
    "        old_p, p = p, old_p - p * quotient\n",
    "        number_2cp, number_1cp = number_1cp, remain\n",
    "    gcd = number_1cp\n",
    "    u = old_p\n",
    "    v = int((gcd - old_p * number_1) / number_2)\n",
    "    return gcd, u, v\n",
    "\n",
    "#Example\n",
    "\n",
    "print(e_gcd(26513, 32321))"
   ]
  },
  {
   "cell_type": "code",
   "execution_count": null,
   "metadata": {},
   "outputs": [],
   "source": []
  }
 ],
 "metadata": {
  "kernelspec": {
   "display_name": "Python 3",
   "language": "python",
   "name": "python3"
  },
  "language_info": {
   "codemirror_mode": {
    "name": "ipython",
    "version": 3
   },
   "file_extension": ".py",
   "mimetype": "text/x-python",
   "name": "python",
   "nbconvert_exporter": "python",
   "pygments_lexer": "ipython3",
   "version": "3.7.3"
  }
 },
 "nbformat": 4,
 "nbformat_minor": 2
}
