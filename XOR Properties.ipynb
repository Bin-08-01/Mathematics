{
 "cells": [
  {
   "cell_type": "markdown",
   "metadata": {},
   "source": [
    "### Commutative: A ⊕ B = B ⊕ A\n",
    "### Associative: A ⊕ (B ⊕ C) = (A ⊕ B) ⊕ C\n",
    "### Identity: A ⊕ 0 = A\n",
    "### Self-Inverse: A ⊕ A = 0"
   ]
  },
  {
   "cell_type": "markdown",
   "metadata": {},
   "source": [
    "KEY1 = a6c8b6733c9b22de7bc0253266a3867df55acde8635e19c73313\n",
    "KEY2 ^ KEY1 = 37dcb292030faa90d07eec17e3b1c6d8daf94c35d4c9191a5e1e \n",
    "KEY2 ^ KEY3 = c1545756687e7573db23aa1c3452a098b71a7fbf0fddddde5fc1 \n",
    "FLAG ^ KEY1 ^ KEY3 ^ KEY2 = 04ee9855208a2cd59091d04767ae47963170d1660df7f56f5faf"
   ]
  },
  {
   "cell_type": "code",
   "execution_count": 6,
   "metadata": {},
   "outputs": [
    {
     "name": "stdout",
     "output_type": "stream",
     "text": [
      "b'crypto{x0r_i5_ass0c1at1v3}'\n"
     ]
    }
   ],
   "source": [
    "def xor(str1, str2):\n",
    "    res=[]\n",
    "    for i in range(0, len(str1)):\n",
    "        m = str1[i] ^ str2[i]\n",
    "        res.append(m)\n",
    "    return bytes(res)\n",
    "\n",
    "KEY1 = bytes.fromhex(\"a6c8b6733c9b22de7bc0253266a3867df55acde8635e19c73313\")\n",
    "KEY21 = bytes.fromhex(\"37dcb292030faa90d07eec17e3b1c6d8daf94c35d4c9191a5e1e\")\n",
    "KEY23 = bytes.fromhex(\"c1545756687e7573db23aa1c3452a098b71a7fbf0fddddde5fc1\")\n",
    "KEYFLAGXOR = bytes.fromhex(\"04ee9855208a2cd59091d04767ae47963170d1660df7f56f5faf\")\n",
    "\n",
    "KEY2 = xor(KEY1, KEY21)\n",
    "KEY3 = xor(KEY23, KEY2)\n",
    "FLAG = xor(xor(xor(KEYFLAGXOR, KEY1), KEY2), KEY3)\n",
    "print(FLAG)"
   ]
  },
  {
   "cell_type": "code",
   "execution_count": null,
   "metadata": {},
   "outputs": [],
   "source": []
  }
 ],
 "metadata": {
  "kernelspec": {
   "display_name": "Python 3",
   "language": "python",
   "name": "python3"
  },
  "language_info": {
   "codemirror_mode": {
    "name": "ipython",
    "version": 3
   },
   "file_extension": ".py",
   "mimetype": "text/x-python",
   "name": "python",
   "nbconvert_exporter": "python",
   "pygments_lexer": "ipython3",
   "version": "3.7.3"
  }
 },
 "nbformat": 4,
 "nbformat_minor": 2
}
