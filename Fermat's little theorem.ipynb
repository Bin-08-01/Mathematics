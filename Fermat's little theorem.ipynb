{
 "cells": [
  {
   "cell_type": "markdown",
   "metadata": {},
   "source": [
    "### Fermat's little theorem\n",
    "If p is prime, for every integer a:<br>\n",
    "&emsp;` pow(a, p) = a mod p `<br>\n",
    "and, If p is prime and a is an integer coprime with p:<br>\n",
    "&emsp;` pow(a, p-1) = 1 mod p`<br>\n",
    "We can do some magic like this:<br>\n",
    "Note: i'll use math notation, so a^b means pow(a,b)<br>\n",
    "&emsp;&emsp; `a^(p-1) = 1 (mod p)`<br>\n",
    "&emsp;&emsp; `a^(p-1) * a^-1 = a^-1 (mod p)`<br>\n",
    "&emsp;&emsp; `a^(p-2) * a * a^-1 = a^-1 (mod p)`<br>\n",
    "&emsp;&emsp; `a^(p-2) * 1 = a^-1 (mod p)`<br>\n",
    "So finally we have:<br>\n",
    "&emsp;&emsp; `a^(p-2) = a^-1 (mod p)`<br>\n",
    "So, doing `a^(p-2)` and then (mod p) we can achieve our result"
   ]
  },
  {
   "cell_type": "markdown",
   "metadata": {},
   "source": [
    "#Example: 273246787654 ^ 65536 mod 65537"
   ]
  },
  {
   "cell_type": "markdown",
   "metadata": {},
   "source": [
    "<ins>Case 1</ins>: <br>\n",
    "a = 273246787654, p = 65537<br>\n",
    "Because 65536 = 65537 - 1 so pow(a, p-1) = 1 mod p<br>\n",
    "Result: 1"
   ]
  },
  {
   "cell_type": "code",
   "execution_count": 2,
   "metadata": {},
   "outputs": [
    {
     "name": "stdout",
     "output_type": "stream",
     "text": [
      "1\n"
     ]
    }
   ],
   "source": [
    "# Case 2:\n",
    "\n",
    "a = 273246787654\n",
    "ans = 273246787654\n",
    "for i in range(1, 65536):\n",
    "    ans = ((a%65537)*(ans%65537))%65537\n",
    "print(ans)"
   ]
  },
  {
   "cell_type": "code",
   "execution_count": null,
   "metadata": {},
   "outputs": [],
   "source": []
  }
 ],
 "metadata": {
  "kernelspec": {
   "display_name": "Python 3",
   "language": "python",
   "name": "python3"
  },
  "language_info": {
   "codemirror_mode": {
    "name": "ipython",
    "version": 3
   },
   "file_extension": ".py",
   "mimetype": "text/x-python",
   "name": "python",
   "nbconvert_exporter": "python",
   "pygments_lexer": "ipython3",
   "version": "3.7.3"
  }
 },
 "nbformat": 4,
 "nbformat_minor": 2
}
